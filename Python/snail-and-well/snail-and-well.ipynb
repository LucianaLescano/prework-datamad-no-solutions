{
 "cells": [
  {
   "cell_type": "markdown",
   "metadata": {},
   "source": [
    "# Snail and well\n",
    "\n",
    "A snail falls at the bottom of a 125 cm well. Each day the snail rises 30 cm. But at night, while sleeping, slides 20 cm because the walls are wet. How many days does it take to escape from the well?\n",
    "\n",
    "TIP: http://puzzles.nigelcoldwell.co.uk/sixtytwo.htm"
   ]
  },
  {
   "cell_type": "markdown",
   "metadata": {},
   "source": [
    "## Solución"
   ]
  },
  {
   "cell_type": "code",
   "execution_count": 40,
   "metadata": {
    "scrolled": false
   },
   "outputs": [
    {
     "name": "stdout",
     "output_type": "stream",
     "text": [
      "Day 1\n",
      "Snail is inside\n",
      "Day 2\n",
      "Snail is inside\n",
      "Day 3\n",
      "Snail is inside\n",
      "Day 4\n",
      "Snail is inside\n",
      "Day 5\n",
      "Snail is inside\n",
      "Day 6\n",
      "Snail is inside\n",
      "Day 7\n",
      "Snail is inside\n",
      "Day 8\n",
      "Snail is inside\n",
      "Day 9\n",
      "Snail is inside\n",
      "Day 10\n",
      "Snail is inside\n",
      "Day 11\n",
      "Snail is out\n",
      "Days= 11\n"
     ]
    }
   ],
   "source": [
    "# Assign problem data to variables with representative names\n",
    "# well height, daily advance, night retreat, accumulated distance\n",
    "\n",
    "well_height=125\n",
    "daily_advance=30\n",
    "night_retreat=-20\n",
    "\n",
    "# Assign 0 to the variable that represents the solution\n",
    "\n",
    "days=0\n",
    "accumulated_distance=0\n",
    "\n",
    "# Write the code that solves the problem\n",
    "\n",
    "while accumulated_distance<well_height:\n",
    "    accumulated_distance+=(daily_advance+night_retreat)\n",
    "    days += 1\n",
    "    print(\"Day\", days)\n",
    "    if accumulated_distance<(well_height+night_retreat):\n",
    "        print(\"Snail is inside\")\n",
    "    else:\n",
    "        print(\"Snail is out\")\n",
    "        break\n",
    "\n",
    "# Print the result with print('Days =', days)\n",
    "\n",
    "print(\"Days=\", days)"
   ]
  },
  {
   "cell_type": "markdown",
   "metadata": {},
   "source": [
    "**Expected output**: \n",
    "```\n",
    "Days = 11\n",
    "```"
   ]
  },
  {
   "cell_type": "markdown",
   "metadata": {},
   "source": [
    "## Goals\n",
    "\n",
    "1. Treatment of variables\n",
    "2. Use of loop while\n",
    "3. Use of conditional if-else\n",
    "4. Print in console"
   ]
  },
  {
   "cell_type": "markdown",
   "metadata": {},
   "source": [
    "## Bonus\n",
    "The distance traveled by the snail is now defined by a list.\n",
    "```\n",
    "advance_cm = [30, 21, 33, 77, 44, 45, 23, 45, 12, 34, 55]\n",
    "```\n",
    "How long does it take to raise the well?\n",
    "\n",
    "What is its maximum displacement in one day? And its minimum?\n",
    "\n",
    "What is its average speed during the day?\n",
    "\n",
    "What is the standard deviation of its displacement during the day?"
   ]
  },
  {
   "cell_type": "code",
   "execution_count": 26,
   "metadata": {},
   "outputs": [
    {
     "name": "stdout",
     "output_type": "stream",
     "text": [
      "day 1\n",
      "Snail is inside\n",
      "day 2\n",
      "Snail is inside\n",
      "day 3\n",
      "Snail is inside\n",
      "day 4\n",
      "Snail is inside\n",
      "day 5\n",
      "Snail is inside\n",
      "day 6\n",
      "Snail is out\n",
      "Day= 6\n"
     ]
    }
   ],
   "source": [
    "# Assign problem data to variables with representative names\n",
    "# well height, daily advance, night retreat, accumulated distance\n",
    "\n",
    "advance_cm = [30, 21, 33, 77, 44, 45, 23, 45, 12, 34, 55]\n",
    "well_height=125\n",
    "daily_advance=30\n",
    "night_retreat=20\n",
    "\n",
    "# Assign 0 to the variable that represents the solution\n",
    "\n",
    "days=0\n",
    "snail_advance=0\n",
    "\n",
    "# Write the code that solves the problem\n",
    "\n",
    "for advance in advance_cm:\n",
    "    snail_advance+=advance\n",
    "    days+=1\n",
    "    print(\"day\", days)\n",
    "    if snail_advance <= well_height:\n",
    "        snail_advance-=night_retreat\n",
    "        print(\"Snail is inside\")\n",
    "    else:\n",
    "        print (\"Snail is out\")\n",
    "        break\n",
    "    \n",
    "# Print the result with print('Days =', days)\n",
    "\n",
    "print(\"Day=\", days)"
   ]
  },
  {
   "cell_type": "markdown",
   "metadata": {},
   "source": [
    "**Expected output**: \n",
    "```\n",
    "Days = 6\n",
    "```"
   ]
  },
  {
   "cell_type": "code",
   "execution_count": 46,
   "metadata": {},
   "outputs": [
    {
     "name": "stdout",
     "output_type": "stream",
     "text": [
      "Maximum displacement: 77\n",
      "Minimum displacement: 12\n"
     ]
    }
   ],
   "source": [
    "# What is its maximum displacement in a day? And its minimum?\n",
    "\n",
    "advance_cm = [30, 21, 33, 77, 44, 45, 23, 45, 12, 34, 55]\n",
    "maximum=max(advance_cm)\n",
    "print(\"Maximum displacement:\", maximum)\n",
    "minimum_displacement=min(advance_cm)\n",
    "print(\"Minimum displacement:\", minimum)"
   ]
  },
  {
   "cell_type": "markdown",
   "metadata": {},
   "source": [
    "**Expected output**: \n",
    "```\n",
    "77 12\n",
    "```"
   ]
  },
  {
   "cell_type": "code",
   "execution_count": 48,
   "metadata": {},
   "outputs": [
    {
     "name": "stdout",
     "output_type": "stream",
     "text": [
      "Average progress: 38.09090909090909\n"
     ]
    }
   ],
   "source": [
    "# What is its average progress?\n",
    "\n",
    "\n",
    "advance_cm = [30, 21, 33, 77, 44, 45, 23, 45, 12, 34, 55]\n",
    "avg=sum(advance_cm)/len(advance_cm)\n",
    "print(\"Average progress:\", avg)"
   ]
  },
  {
   "cell_type": "markdown",
   "metadata": {},
   "source": [
    "**Expected output**: \n",
    "```\n",
    "38.09090909090909\n",
    "```"
   ]
  },
  {
   "cell_type": "code",
   "execution_count": 56,
   "metadata": {},
   "outputs": [],
   "source": [
    "import statistics\n",
    "import math"
   ]
  },
  {
   "cell_type": "code",
   "execution_count": 58,
   "metadata": {},
   "outputs": [
    {
     "data": {
      "text/plain": [
       "17.159437082600803"
      ]
     },
     "execution_count": 58,
     "metadata": {},
     "output_type": "execute_result"
    }
   ],
   "source": [
    "# What is the standard deviation of your displacement during the day?\n",
    "\n",
    "advance_cm = [30, 21, 33, 77, 44, 45, 23, 45, 12, 34, 55]\n",
    "statistics.pstdev(advance_cm)"
   ]
  },
  {
   "cell_type": "markdown",
   "metadata": {},
   "source": [
    "**Expected output**: \n",
    "```\n",
    "17.159437082600803\n",
    "```"
   ]
  }
 ],
 "metadata": {
  "kernelspec": {
   "display_name": "Python 3",
   "language": "python",
   "name": "python3"
  },
  "language_info": {
   "codemirror_mode": {
    "name": "ipython",
    "version": 3
   },
   "file_extension": ".py",
   "mimetype": "text/x-python",
   "name": "python",
   "nbconvert_exporter": "python",
   "pygments_lexer": "ipython3",
   "version": "3.8.5"
  }
 },
 "nbformat": 4,
 "nbformat_minor": 2
}
